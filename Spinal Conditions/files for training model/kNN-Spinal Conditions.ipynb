{
 "cells": [
  {
   "cell_type": "markdown",
   "id": "20d74cc0-0ea6-47c5-bfa7-071a2225a58d",
   "metadata": {},
   "source": [
    "| **CLASSIFICATION OF SPINAL CONDITIONS** |\r",
    "|-----------------------------------------|\n",
    "---\n",
    "\n",
    "\n",
    "> **Description:**  \n",
    "> The K-Nearest Neighbors (KNN) classifier will be used to create a model that can tell spinal conditions apart, helping improve diagnosis and treatment for spinal disorders. Accuracy of our model is equal to 79.03 %.\n",
    "\n",
    "---\n",
    "\n",
    "**Name:** Ayesha Siddiqua  \n",
    "**Student ID:** U22103855\n"
   ]
  },
  {
   "cell_type": "markdown",
   "id": "535222e4-d5e1-452a-8ad5-2aa7af3b89e7",
   "metadata": {},
   "source": [
    "#### The dataset contains:\n",
    "***310 instances** and **6 features** related to spinal health.* \n"
   ]
  },
  {
   "cell_type": "markdown",
   "id": "ba09599c-cc5e-4fca-91c5-f44647250f46",
   "metadata": {},
   "source": [
    "#### Features\n",
    "1. *Pelvic Incidence*\n",
    "2. *Pelvic Tilt*\n",
    "3. *Lumbar Lordosis Angle*\n",
    "4. *Sacral Slope*\n",
    "5. *Pelvic Radius*\n",
    "6. *Degree of Spondylolisthesis*"
   ]
  },
  {
   "cell_type": "markdown",
   "id": "f2cae65f-8b17-4aeb-9408-4eadd22ff1ed",
   "metadata": {},
   "source": [
    "#### Spinal Condition Categories\n",
    "1. *Normal (NO)* - Patients without any spinal issues.\n",
    "2. *Disk Hernia (DH)* - Patients with a herniated disc.\n",
    "3. *Spondylolisthesis (SL)* - Patients with vertebrae that have slipped."
   ]
  },
  {
   "cell_type": "code",
   "execution_count": 1,
   "id": "ec36c052-f8df-420b-94b5-bdb5ed005e4c",
   "metadata": {},
   "outputs": [],
   "source": [
    "# importing necessary libraries\n",
    "\n",
    "\n",
    "from sklearn.model_selection import train_test_split\n",
    "from sklearn.preprocessing import StandardScaler\n",
    "from sklearn.neighbors import KNeighborsClassifier\n",
    "from sklearn.metrics import confusion_matrix, f1_score, accuracy_score\n",
    "\n"
   ]
  },
  {
   "cell_type": "markdown",
   "id": "ec15bf21-985a-467f-9209-f876af76b62b",
   "metadata": {},
   "source": [
    "### **1. Data Preprocessing**"
   ]
  },
  {
   "cell_type": "markdown",
   "id": "5ecd9d85-bc0a-415b-8501-344978062ed0",
   "metadata": {},
   "source": [
    "**Loading the Dataset**"
   ]
  },
  {
   "cell_type": "code",
   "execution_count": 3,
   "id": "51038ffe-7736-467e-9138-6f0158574c4d",
   "metadata": {},
   "outputs": [
    {
     "name": "stdout",
     "output_type": "stream",
     "text": [
      "   pelvic_incidence  pelvic_tilt  lumbar_lordosis_angle  sacral_slope  \\\n",
      "0             63.03        22.55                  39.61         40.48   \n",
      "1             39.06        10.06                  25.02         29.00   \n",
      "2             68.83        22.22                  50.09         46.61   \n",
      "3             69.30        24.65                  44.31         44.64   \n",
      "4             49.71         9.65                  28.32         40.06   \n",
      "\n",
      "   pelvic_radius  degree_spondylolisthesis spinal_condition  \n",
      "0          98.67                     -0.25               DH  \n",
      "1         114.41                      4.56               DH  \n",
      "2         105.99                     -3.53               DH  \n",
      "3         101.87                     11.21               DH  \n",
      "4         108.17                      7.92               DH  \n"
     ]
    }
   ],
   "source": [
    "import numpy as np\n",
    "import pandas as pd\n",
    "import matplotlib.pyplot as plt\n",
    "import seaborn as sns\n",
    "\n",
    "# loading the dataset\n",
    "\n",
    "# read the file into a dataframe \n",
    "df = pd.read_csv('vertebral_column.csv')\n",
    "\n",
    "# display the dataframe to check if it was loaded correctly\n",
    "print(df.head())\n"
   ]
  },
  {
   "cell_type": "markdown",
   "id": "c1387ef8-ba73-4054-b036-6e158261a1a6",
   "metadata": {},
   "source": [
    "**Handling Missing Values**"
   ]
  },
  {
   "cell_type": "code",
   "execution_count": 5,
   "id": "37c0d591-e1c0-404a-81ac-0b71e47a8131",
   "metadata": {},
   "outputs": [
    {
     "name": "stdout",
     "output_type": "stream",
     "text": [
      "pelvic_incidence            0\n",
      "pelvic_tilt                 0\n",
      "lumbar_lordosis_angle       0\n",
      "sacral_slope                0\n",
      "pelvic_radius               0\n",
      "degree_spondylolisthesis    0\n",
      "spinal_condition            0\n",
      "dtype: int64\n",
      "\n",
      "No missing values.\n"
     ]
    }
   ],
   "source": [
    "# check for missing values in the dataframe\n",
    "missing_values = df.isnull().sum()\n",
    "\n",
    "# display the count of missing values for each column\n",
    "print(missing_values)\n",
    "\n",
    "# check if there are any missing values\n",
    "if missing_values.sum() == 0:\n",
    "    print(\"\\nNo missing values.\")\n",
    "else:\n",
    "    print(\"\\nMissing values found.\")\n"
   ]
  },
  {
   "cell_type": "markdown",
   "id": "abaad11b-d59f-4687-9017-ffa4730a1fc2",
   "metadata": {},
   "source": [
    "**Data Preprocessing**"
   ]
  },
  {
   "cell_type": "code",
   "execution_count": 7,
   "id": "7ecc9c7f-c70b-45cb-bb40-70afd87fd0e6",
   "metadata": {},
   "outputs": [],
   "source": [
    "# FEATURES & TARGETS COLUMNS\n",
    "\n",
    "features = df.columns[:-1]  \n",
    "target = df.columns[-1]     \n",
    "\n",
    "# Data preprocessing\n",
    "x = df.iloc[:, :-1].values # feature values\n",
    "y = df.iloc[:, -1].values # target values"
   ]
  },
  {
   "cell_type": "markdown",
   "id": "fad053be-4449-4e13-ac04-dbbe2d2051ab",
   "metadata": {},
   "source": [
    "**Label Encoding**"
   ]
  },
  {
   "cell_type": "code",
   "execution_count": 9,
   "id": "8d8e5666-7889-42dc-9f9f-d205b506a550",
   "metadata": {},
   "outputs": [],
   "source": [
    "# Convert categorical labels to numerical values using label encoding:\n",
    "from sklearn.preprocessing import LabelEncoder\n",
    "le = LabelEncoder()\n",
    "\n",
    "# TARGET LABELS: Disk Hernia -> 0, Normal -> 1, Spondylolisthesis -> 2.\n",
    "y = le.fit_transform(y)"
   ]
  },
  {
   "cell_type": "markdown",
   "id": "750d8a86-487b-4767-9058-f2cd0ae8fa1a",
   "metadata": {},
   "source": [
    "**Normalization/Scaling & Train-Test Split**"
   ]
  },
  {
   "cell_type": "code",
   "execution_count": 11,
   "id": "e352ef52-147e-4fb6-a390-77d0c8e11cad",
   "metadata": {},
   "outputs": [],
   "source": [
    "# Splitting the dataset into training and testing sets\n",
    "from sklearn.model_selection import train_test_split\n",
    "x_train, x_test, y_train, y_test = train_test_split(x, y, test_size=0.25, random_state=0)\n",
    "\n",
    "# Feature scaling \n",
    "# This ensures equal weight for each feature and improves model performance.\n",
    "from sklearn.preprocessing import StandardScaler\n",
    "scaler = StandardScaler()\n",
    "x_train = scaler.fit_transform(x_train)\n",
    "x_test = scaler.transform(x_test)\n"
   ]
  },
  {
   "cell_type": "markdown",
   "id": "3f9de3c4-4354-434b-8fb6-190d163ab5d7",
   "metadata": {},
   "source": [
    "### **2. Visualization**"
   ]
  },
  {
   "cell_type": "markdown",
   "id": "d2c79c9f-41aa-4a54-946a-e353f298e6e0",
   "metadata": {},
   "source": [
    "**Summary Statistics**"
   ]
  },
  {
   "cell_type": "code",
   "execution_count": null,
   "id": "7126e543-7d9b-4b55-bae0-92b40c20da2d",
   "metadata": {},
   "outputs": [],
   "source": [
    "# Summary Statistics - count, mean, standard deviation, min, max and quartiles for each numerical feature.\n",
    "df.describe()"
   ]
  },
  {
   "cell_type": "markdown",
   "id": "5208c9c1-fdff-4f7f-bbb5-df50f4c42f50",
   "metadata": {},
   "source": [
    "**Histograms of Features**"
   ]
  },
  {
   "cell_type": "code",
   "execution_count": null,
   "id": "320ef823-86dd-4709-a29f-79cca688ebf2",
   "metadata": {},
   "outputs": [],
   "source": [
    "# Histograms of Features\n",
    "\n",
    "plt.figure(figsize=(12, 10))\n",
    "for i, feature in enumerate(features):\n",
    "    plt.subplot(3, 3, i+1)\n",
    "    sns.histplot(df[feature], kde=True, bins=30)\n",
    "    plt.title(f'Distribution of {feature}')\n",
    "plt.tight_layout()\n",
    "plt.show()"
   ]
  },
  {
   "cell_type": "markdown",
   "id": "85d44950-87fa-4b0d-a23e-573acd670a24",
   "metadata": {},
   "source": [
    "**Pairplot**"
   ]
  },
  {
   "cell_type": "code",
   "execution_count": null,
   "id": "4c88d742-10ca-4fd4-b164-5a24d83da68b",
   "metadata": {},
   "outputs": [],
   "source": [
    "# 2. Pairplot\n",
    "sns.pairplot(df, hue=target, diag_kind='kde')\n",
    "plt.title('Pairplot of Features')\n",
    "plt.show()"
   ]
  },
  {
   "cell_type": "markdown",
   "id": "9d8c4c48-eb0e-43ed-ba57-f09578124be2",
   "metadata": {},
   "source": [
    "**Boxplots**"
   ]
  },
  {
   "cell_type": "code",
   "execution_count": null,
   "id": "5b00c5b4-de64-496c-a1f9-6b7fcb308b41",
   "metadata": {},
   "outputs": [],
   "source": [
    "# 3. Boxplots\n",
    "plt.figure(figsize=(12, 10))\n",
    "for i, feature in enumerate(features):\n",
    "    plt.subplot(3, 3, i+1)\n",
    "    sns.boxplot(x=target, y=feature, data=df)\n",
    "    plt.title(f'{feature} vs spinal_condition')\n",
    "plt.tight_layout()\n",
    "plt.show()"
   ]
  },
  {
   "cell_type": "markdown",
   "id": "860b73a5-cd71-4c94-a474-1081c42937ba",
   "metadata": {},
   "source": [
    "Some features exhibit overlaps, making classification harder. There also exist outliers."
   ]
  },
  {
   "cell_type": "markdown",
   "id": "af26e6fc-68e8-4a01-bfb3-0001cb298faf",
   "metadata": {},
   "source": [
    "**Correlation Matrix Heatmap**"
   ]
  },
  {
   "cell_type": "code",
   "execution_count": null,
   "id": "93946333-994d-4f9d-800c-9de110a2c586",
   "metadata": {},
   "outputs": [],
   "source": [
    "# 4. Correlation Matrix Heatmap\n",
    "\n",
    "# Create a temporary column for the target variable by encoding it\n",
    "le = LabelEncoder()\n",
    "df['SPINAL CONDITION'] = le.fit_transform(df[target])\n",
    "\n",
    "plt.figure(figsize=(12, 8))\n",
    "\n",
    "# Calculate the correlation matrix, dropping the original target column\n",
    "correlation_matrix = df.drop(columns=[target]).corr()\n",
    "sns.heatmap(correlation_matrix, annot=True, cmap='coolwarm', fmt='.2f')\n",
    "plt.title('Correlation Matrix')\n",
    "plt.show()\n",
    "\n",
    "# Remove 'temp_target' column from DataFrame directly (inplace)\n",
    "df.drop(columns=['SPINAL CONDITION'], inplace=True)\n"
   ]
  },
  {
   "cell_type": "markdown",
   "id": "b5a8658d-5483-4a95-8bf7-c6a18d575c41",
   "metadata": {},
   "source": [
    "##### **CORRELATION ANALYSIS OF FEATURES AGAINST SPINAL CONDITION**\r\n",
    "\r\n",
    "| Feature                     | Correlation | Interpretation                                     |\r\n",
    "|-----------------------------|-------------|---------------------------------------------------|\r\n",
    "| Pelvic Incidence            | 0.59       | Strong positive — higher values may lead to a higher likelihood of spinal conditions. |\r\n",
    "| Lumbar Lordosis Angle       | 0.64       | Strong positive — suggests a significant relationship with spinal conditions. |\r\n",
    "| Sacral Slope                | 0.60       | Strong positive — indicates that increased sacral slope may be associated with spinal conditions. |\r\n",
    "| Pelvic Tilt                 | 0.21       | Weak positive — suggests a minor relationship with spinal conditions. |\r\n",
    "| Pelvic Radius               | -0.13      | Very weak negative — indicates it may not be a significant predictor. |\r\n",
    "| Degree of Spondylolisthesis | 0.59       | Moderate positive — indicates a notable relationship with spinal conditions. |\r\n",
    "\r\n",
    "**Summary**\r\n",
    "\r\n",
    "Key features for differentiating spinal conditions include Pelvic Incidence, Degree of Spondylolisthesis, Lumbar Lordosis Angle, and Sacral Slope.\r\n"
   ]
  },
  {
   "cell_type": "markdown",
   "id": "e4e0b8aa-8fe2-4ae9-8e42-b915d16c2955",
   "metadata": {},
   "source": [
    "### **3. K-Nearest Neighbors (KNN) Classifier**"
   ]
  },
  {
   "cell_type": "code",
   "execution_count": 13,
   "id": "e0191e4f-a58a-4e26-91db-4c5ba24dcd29",
   "metadata": {},
   "outputs": [],
   "source": [
    "import numpy as np\n",
    "import pandas as pd\n",
    "from sklearn.model_selection import train_test_split, cross_val_score, StratifiedKFold\n",
    "from sklearn.neighbors import KNeighborsClassifier\n",
    "from sklearn.preprocessing import StandardScaler"
   ]
  },
  {
   "cell_type": "markdown",
   "id": "34eb4d8d-5029-451d-9de9-f4e15143363f",
   "metadata": {},
   "source": [
    "### KNN classifier using different values of k and test set sizes. For each combination, it splits the data, scales the features, and checks the model’s accuracy using cross-validation. It also calculates accuracy and F1-score on the test data to find the best k and test size for the model."
   ]
  },
  {
   "cell_type": "code",
   "execution_count": 15,
   "id": "68018059-1688-48b3-ace0-1c420d20b2df",
   "metadata": {},
   "outputs": [
    {
     "name": "stdout",
     "output_type": "stream",
     "text": [
      "\n",
      "Test Size: 0.2\n",
      "K: 3, C-V Mean Accuracy: 0.7864, Test Accuracy: 0.7419\n",
      "F1 Score: 0.7391\n",
      "K: 5, C-V Mean Accuracy: 0.7824, Test Accuracy: 0.7903\n",
      "F1 Score: 0.7889\n",
      "K: 7, C-V Mean Accuracy: 0.8069, Test Accuracy: 0.7742\n",
      "F1 Score: 0.7742\n",
      "K: 9, C-V Mean Accuracy: 0.7946, Test Accuracy: 0.7419\n",
      "F1 Score: 0.7455\n",
      "K: 11, C-V Mean Accuracy: 0.7904, Test Accuracy: 0.7903\n",
      "F1 Score: 0.7934\n",
      "\n",
      "Test Size: 0.25\n",
      "K: 3, C-V Mean Accuracy: 0.7803, Test Accuracy: 0.7308\n",
      "F1 Score: 0.7394\n",
      "K: 5, C-V Mean Accuracy: 0.7803, Test Accuracy: 0.7436\n",
      "F1 Score: 0.7457\n",
      "K: 7, C-V Mean Accuracy: 0.8060, Test Accuracy: 0.7564\n",
      "F1 Score: 0.7569\n",
      "K: 9, C-V Mean Accuracy: 0.8017, Test Accuracy: 0.7436\n",
      "F1 Score: 0.7434\n",
      "K: 11, C-V Mean Accuracy: 0.8018, Test Accuracy: 0.7436\n",
      "F1 Score: 0.7409\n",
      "\n",
      "Test Size: 0.3\n",
      "K: 3, C-V Mean Accuracy: 0.7646, Test Accuracy: 0.7527\n",
      "F1 Score: 0.7594\n",
      "K: 5, C-V Mean Accuracy: 0.7736, Test Accuracy: 0.7527\n",
      "F1 Score: 0.7537\n",
      "K: 7, C-V Mean Accuracy: 0.7923, Test Accuracy: 0.7634\n",
      "F1 Score: 0.7658\n",
      "K: 9, C-V Mean Accuracy: 0.7922, Test Accuracy: 0.7634\n",
      "F1 Score: 0.7638\n",
      "K: 11, C-V Mean Accuracy: 0.7966, Test Accuracy: 0.7527\n",
      "F1 Score: 0.7494\n"
     ]
    }
   ],
   "source": [
    "k_values = [3, 5, 7, 9, 11]\n",
    "test_sizes = [0.2, 0.25, 0.3]\n",
    "\n",
    "# Loop through different test sizes\n",
    "for test_size in test_sizes:\n",
    "    x_train, x_test, y_train, y_test = train_test_split(x, y, test_size=test_size, random_state=42)\n",
    "\n",
    "    # Feature scaling\n",
    "    scaler = StandardScaler()\n",
    "    x_train = scaler.fit_transform(x_train)\n",
    "    x_test = scaler.transform(x_test)\n",
    "\n",
    "    print(f\"\\nTest Size: {test_size}\")\n",
    "\n",
    "    # Loop through different k values\n",
    "    for k in k_values:\n",
    "        # Instantiate KNN classifier\n",
    "        knn = KNeighborsClassifier(n_neighbors=k)\n",
    "        \n",
    "        # Perform cross-validation with k-folds = 5\n",
    "        cv = StratifiedKFold(n_splits=5, shuffle=True, random_state=0)\n",
    "        cv_scores = cross_val_score(knn, x_train, y_train, cv=cv, scoring='accuracy')\n",
    "        mean_cv_accuracy = np.mean(cv_scores)\n",
    "\n",
    "        # Train the model and evaluate on the test set\n",
    "        knn.fit(x_train, y_train)\n",
    "        test_accuracy = knn.score(x_test, y_test)\n",
    "\n",
    "        y_pred = knn.predict(x_test)\n",
    "\n",
    "        # Print the results\n",
    "        print(f\"K: {k}, C-V Mean Accuracy: {mean_cv_accuracy:.4f}, Test Accuracy: {test_accuracy:.4f}\")\n",
    "        f1 = f1_score(y_test, y_pred, average='weighted')  \n",
    "        print(f\"F1 Score: {f1:.4f}\")\n"
   ]
  },
  {
   "cell_type": "markdown",
   "id": "caeb83a4-1167-48e7-a522-43efeab2cfac",
   "metadata": {},
   "source": [
    "> ### Optimal Values for Maximum Test Accuracy:\n",
    "> #### **Test Size: 0.2**\n",
    "> #### **k = 11**\n",
    "\n",
    "#### Since the dataset is imbalanced, as the number of patients in each class varies significantly. Spondylolisthesis has the most patients (150), followed by Normal (100), and Disk Hernia has the least (60). This could lead to the model being biased towards the larger classes if not handled properly.\n",
    "\n",
    "#### So this combination seems to be the best for classifying the patient groups of Normal, Disk Hernia, and Spondylolisthesis because it yields the highest F1 score (0.7934) and has highest accuracy (0.7903) as well comparitively. This ensures the model effectively identifies and differentiates between all conditions, which is important for accurate diagnosis and treatment.\n",
    "\n"
   ]
  },
  {
   "cell_type": "code",
   "execution_count": 17,
   "id": "1c58677d-7fd4-4b19-91ef-f800894791de",
   "metadata": {},
   "outputs": [
    {
     "name": "stdout",
     "output_type": "stream",
     "text": [
      "Test Size: 0.2, k: 11\n",
      "Cross-Validation Accuracy Scores: [0.64       0.88       0.82       0.81632653 0.79591837]\n",
      "Mean Accuracy: 0.7904\n",
      "Standard Deviation: 0.0803\n",
      "Confusion Matrix:\n",
      " [[ 8  3  1]\n",
      " [ 5 12  1]\n",
      " [ 1  2 29]]\n",
      "Accuracy of our model is equal to 79.03 %.\n",
      "              precision    recall  f1-score   support\n",
      "\n",
      "           0       0.57      0.67      0.62        12\n",
      "           1       0.71      0.67      0.69        18\n",
      "           2       0.94      0.91      0.92        32\n",
      "\n",
      "    accuracy                           0.79        62\n",
      "   macro avg       0.74      0.75      0.74        62\n",
      "weighted avg       0.80      0.79      0.79        62\n",
      "\n",
      "F1 Score: 0.7934\n",
      "Recall: 0.7903\n",
      "Precision: 0.7984\n"
     ]
    },
    {
     "data": {
      "image/png": "[encoded data removed]",
      "text/plain": [
       "<Figure size 1000x700 with 1 Axes>"
      ]
     },
     "metadata": {},
     "output_type": "display_data"
    }
   ],
   "source": [
    "import numpy as np\n",
    "import pandas as pd\n",
    "import seaborn as sns\n",
    "import matplotlib.pyplot as plt\n",
    "from sklearn.model_selection import train_test_split, StratifiedKFold, cross_val_score\n",
    "from sklearn.neighbors import KNeighborsClassifier\n",
    "from sklearn.metrics import confusion_matrix, accuracy_score, classification_report, f1_score, recall_score, precision_score\n",
    "\n",
    "\n",
    "# choosing optimal k and test size value\n",
    "k_value = 11\n",
    "test_size = 0.2\n",
    "\n",
    "# Split the dataset\n",
    "x_train, x_test, y_train, y_test = train_test_split(x, y, test_size=test_size, random_state=42)\n",
    "\n",
    "# Feature scaling \n",
    "from sklearn.preprocessing import StandardScaler\n",
    "scaler = StandardScaler()\n",
    "x_train = scaler.fit_transform(x_train)\n",
    "x_test = scaler.transform(x_test)\n",
    "\n",
    "\n",
    "# Instantiate and fit the KNN classifier\n",
    "classifier = KNeighborsClassifier(n_neighbors=k)\n",
    "classifier.fit(x_train, y_train)\n",
    "\n",
    "# Perform cross-validation with k-folds = 5\n",
    "cv = StratifiedKFold(n_splits=5, shuffle=True, random_state=0)\n",
    "cv_scores = cross_val_score(classifier, x_train, y_train, cv=cv, scoring='accuracy')\n",
    "\n",
    "# Evaluate cross-validation results\n",
    "print(f\"Test Size: {test_size}, k: {k}\")\n",
    "print(f'Cross-Validation Accuracy Scores: {cv_scores}')\n",
    "print(f'Mean Accuracy: {cv_scores.mean():.4f}')\n",
    "print(f'Standard Deviation: {cv_scores.std():.4f}')\n",
    "\n",
    "# Predicting the Test set results\n",
    "y_pred = classifier.predict(x_test)\n",
    "\n",
    "# confusion matrix to summarize the classification results        \n",
    "CM = confusion_matrix(y_test, y_pred)\n",
    "print(\"Confusion Matrix:\\n\", CM)\n",
    "        \n",
    "# ratio of correctly predicted instances to the total instances\n",
    "accuracy = accuracy_score(y_test, y_pred) * 100 \n",
    "print(f'Accuracy of our model is equal to {round(accuracy, 2)} %.')\n",
    "\n",
    "print(classification_report(y_test, y_pred))\n",
    "        \n",
    "# F1 score - the harmonic mean of precision and recall\n",
    "# 'weighted' averaging is used to consider the proportion of each class in the dataset\n",
    "f1 = f1_score(y_test, y_pred, average='weighted')  \n",
    "print(f\"F1 Score: {f1:.4f}\")\n",
    "        \n",
    "# Recall measures the ability of the model to identify positive instances       \n",
    "recall = recall_score(y_test, y_pred, average='weighted')    \n",
    "print(f\"Recall: {recall:.4f}\")\n",
    "\n",
    "# Precision measures the accuracy of positive predictions\n",
    "precision = precision_score(y_test, y_pred, average='weighted')\n",
    "print(f\"Precision: {precision:.4f}\")\n",
    "\n",
    "# Plotting the confusion matrix heatmap\n",
    "plt.figure(figsize=(10, 7))\n",
    "sns.heatmap(CM, annot=True, fmt='d', cmap='Blues', cbar=False, \n",
    "                    xticklabels=['Disk Hernia', 'Normal', 'Spondylolisthesis'], \n",
    "                    yticklabels=['Disk Hernia', 'Normal', 'Spondylolisthesis'])\n",
    "plt.xlabel('Predicted')\n",
    "plt.ylabel('True')\n",
    "plt.title(f'Confusion Matrix Heatmap (Test Size: {test_size}, K: {k})')\n",
    "plt.show()\n",
    "        \n"
   ]
  },
  {
   "cell_type": "markdown",
   "id": "c18aaedd-8fe0-4fcf-b66c-7223c53ae897",
   "metadata": {},
   "source": [
    "### Analysis of KNN Classifier:\r\n",
    "\r\n",
    "#### **Cross-Validation Accuracy:**\r\n",
    "- The model achieved a **mean cross-validation accuracy of 0.7966 (79.66%)**, indicating good overall performance. \r\n",
    "- The **standard deviation is 0.0732 (7.32%)**, which suggests some variability in how well the model performs across different subsets of the training data. \r\n",
    "\r\n",
    "#### **Confusion Matrix:**\r\n",
    "\r\n",
    "|              | Predicted: Disk Hernia (0) | Predicted: Normal (1) | Predicted: Spondylolisthesis (2) |\r\n",
    "|--------------|----------------------------|-----------------------|-----------------------------------|\r\n",
    "| Actual: 0    | 8                          | 3                     | 1                                 |\r\n",
    "| Actual: 1    | 5                          | 12                    | 1                                 |\r\n",
    "| Actual: 2    | 1                          | 2                     | 29                                |\r\n",
    "\r\n",
    "- **Correct Predictions (diagonal values)**:\r\n",
    "   - **Disk Hernia (Class 0)**: 8 correctly predicted.\r\n",
    "   - **Normal (Class 1)**: 12 correctly predicted.\r\n",
    "   - **Spondylolisthesis (Class 2)**: 29 correctly predicted.\r\n",
    "\r\n",
    "- **Misclassifications (non-diagonal values)**:\r\n",
    "   - **Disk Hernia (Class 0)**: 3 misclassified as Normal, 1 as Spondylolisthesis.\r\n",
    "   - **Normal (Class 1)**: 5 misclassified as Disk Hernia, 1 as Spondylolisthesis.\r\n",
    "   - **Spondylolisthesis (Class 2)**: 2 misclassified as Normal, 1 as Disk Hernia.\r\n",
    "\r\n",
    "### **Insights:**\r\n",
    "- The model performs best in predicting **Spondylolisthesis (Class 2)** with 29 correct predictions.\r\n",
    "- There is notable confusion between **Normal** and **Disk Hernia**, as 5 Normal cases are misclassified as Disk Hernia and 3 Disk Hernia cases are misclassified as Normal.\r\n",
    "- Improving the model’s ability to distinguish between Normal and Disk Hernia may enhance overall performance.\r\n",
    "\r\n",
    "#### **Performance Metrics:**\r\n",
    "The model79.03 as an overall **accuracy of 79%**.\r\n",
    "\r\n",
    "- **Precision**:\r\n",
    "  - **Disk Hernia (Class 0)**: 0.57 (57%) – Precision is moderate but leaves room for improvement.\r\n",
    "  - **Normal (Class 1)**: 0.71 (71%) – Slightly better but still not very high.\r\n",
    "  - **Spondylolisthesis (Class 2)**: 0.94 (94%) – Very high precision, meaning most positive predictions for this class are correct.\r\n",
    "\r\n",
    "- **Recall**:\r\n",
    "  - **Disk Hernia (Class 0)**: 0.67 (67%) – The model misses a few actual Disk Hernia cases.\r\n",
    "  - **Normal (Class 1)**: 0.67 (67%) – Good recall, indicating that the model identifies most Normal cases.\r\n",
    "  - **Spondylolisthesis (Class 2)**: 0.91 (91%) – Excellent recall, capturing almost all true instances of this class.\r\n",
    "\r\n",
    "- **F1 Score**:\r\n",
    "  - **Disk Hernia (Class 0)**: 0.62 – Reflects a balance between precision and recall.\r\n",
    "  - **Normal (Class 1)**: 0.69 – A moderate F1 score indicates a better balance between precision and recall.\r\n",
    "  - **Spondylolisthesis (Class 2)**: 0.92 – High F1 score indicates excellent performance for this class.\r\n",
    "\r\n",
    "The **overall F1 score** is **0.7934**, showing balanced performance across classes.\r\n",
    "\r\n",
    "#### **Macro-Average (Unweighted)**:\r\n",
    "This gives equal weight to each class, regardless of its frequency.\r\n",
    "- **Average Precision**: 0.74\r\n",
    "- **Average Recall**: 0.75\r\n",
    "- **Average F1 Score**: 0.74\r\n",
    "\r\n",
    "These values show the performance across all classes, without accounting for the class imbalance.\r\n",
    "\r\n",
    "#### **Weighted Average**:\r\n",
    "This accounts for the number of instances in each class.\r\n",
    "- **Average Precision**: 0.80\r\n",
    "- **Average Recall**: 0.79\r\n",
    "- **Average F1 Score**: 0.79\r\n",
    "\r\n",
    "The weighted averages reflect the model’s better performance on the more frequent class (Spondylolisthesis) but may hide weInferencehandling minority classes like Disk Hernia.\r\n",
    "\r\n",
    "### **Key Takeaways**:\r\n",
    "- The model performs best in predicting Spondylolisthesis, with strong precision, recall, and F1 scores.\r\n",
    "- There’s noticeable confusion between Disk Hernia and Normal, is required onich affects the model’s overall performance.\r\n",
    "- To improve, focus on increasing the model’s ability to distinguish between Disk Hernia and Normal. This could involve experimenting with additional features, different algorithms, or adjusting the class weighting to better handle the class imbalance.\r\n"
   ]
  },
  {
   "cell_type": "markdown",
   "id": "2875b07f-5ed4-41b6-a79d-07f3c9bd2490",
   "metadata": {},
   "source": [
    "# ROC Curve and AUC (Area Under the Curve)"
   ]
  },
  {
   "cell_type": "code",
   "execution_count": null,
   "id": "d8d64ea7-819b-47fe-84fe-e712f259113b",
   "metadata": {},
   "outputs": [],
   "source": [
    "from sklearn.metrics import roc_curve, roc_auc_score\n",
    "from sklearn.preprocessing import label_binarize\n",
    "import numpy as np\n",
    "import matplotlib.pyplot as plt\n",
    "\n",
    "# Predict class probabilities for the test dataset using the fitted model.\n",
    "y_pred_proba = classifier.predict_proba(x_test)\n",
    "\n",
    "# Binarize the true class labels for multiclass ROC analysis.\n",
    "# 'label_binarize' transforms the true labels into a binary format where each class is represented as a separate column.\n",
    "y_test_binarized = label_binarize(y_test, classes=np.unique(y_test))\n",
    "\n",
    "# Determine the number of classes from the binarized true labels.\n",
    "n_classes = y_test_binarized.shape[1]\n",
    "\n",
    "# Output the shape of the binarized labels to verify the transformation.\n",
    "print(f\"Binarized true labels shape: {y_test_binarized.shape}\")  \n",
    "\n",
    "# Create a new figure for plotting the ROC curves.\n",
    "plt.figure(figsize=(10, 8))\n",
    "\n",
    "# Loop through each class to calculate and plot the ROC curve.\n",
    "for i in range(n_classes):\n",
    "    # Calculate the False Positive Rate (FPR) and True Positive Rate (TPR) for the current class.\n",
    "    fpr, tpr, _ = roc_curve(y_test_binarized[:, i], y_pred_proba[:, i])\n",
    "    \n",
    "    # Calculate the AUC (Area Under the Curve) for the current class.\n",
    "    auc = roc_auc_score(y_test_binarized[:, i], y_pred_proba[:, i])\n",
    "    \n",
    "    # Plot the ROC curve for the current class with a label indicating the AUC value.\n",
    "    plt.plot(fpr, tpr, label=f'ROC curve for class {i} (area = {auc:.2f})')\n",
    "\n",
    "# Configure the plotting parameters for better visualization.\n",
    "plt.plot([0, 1], [0, 1], 'k--')  # Add a diagonal line representing random chance.\n",
    "plt.xlim([0.0, 1.0])  # Set the x-axis limits.\n",
    "plt.ylim([0.0, 1.05])  # Set the y-axis limits.\n",
    "plt.xlabel('False Positive Rate')  # Label for the x-axis.\n",
    "plt.ylabel('True Positive Rate')  # Label for the y-axis.\n",
    "plt.title('Receiver Operating Characteristic (ROC) Curves')  # Title of the plot.\n",
    "plt.legend(loc='lower right')  # Display legend in the lower right corner.\n",
    "plt.show()  # Display the plot.\n"
   ]
  },
  {
   "cell_type": "markdown",
   "id": "3a4ce4fe-ba9c-4ade-9340-7a9720823f86",
   "metadata": {},
   "source": [
    "## Classes and ROC Curve:\r\n",
    "\r\n",
    "### ROC Curve Summary:\r\n",
    "\r\n",
    "| Class                | Color         | AUC  | Performance Description                                                                                   |\r\n",
    "|----------------------|---------------|------|-----------------------------------------------------------------------------------------------------------|\r\n",
    "| Disk Hernia          | Blue          | 0.90 | The ROC curve shows a good trade-off between the true positive rate and the false positive rate.          |\r\n",
    "| Normal               | Orange        | 0.85 | The ROC curve is lower than the others, indicating difficulty in correctly classifying Normal patients.    |\r\n",
    "| Spondylolisthesis    | Green         | 0.97 | The ROC curve is very close to the top-left corner, indicating excellent classification performance.       |\r\n",
    "\r\n",
    "## Interpretation of the ROC Curves:\r\n",
    "- The closer the ROC curve is to the upper left corner, the better the model is at distinguishing that class from the others. In this case, the ROC curve for Spondylolisthesis (Class 2) shows the best performance, followed by Disk Hernia (Class 0), while the curve for Normal (Class 1) shows relatively weaker performance.\r\n",
    "- A diagonal line represents random guessing, and all three ROC curves are well above it, confirming that the model has skill in classification.\r\n",
    "\r\n",
    "## Threshold Sensitivity:\r\n",
    "- ROC curves evaluate the model's performance across all possible decision thresholds, so even though some classes (like Normal) might have lower precision or recall at a particular threshold, the overall ability to separate the classes (as shown by the ROC curve) remains good.\r\n",
    "\r\n",
    "In summary, while the ROC curve and AUC indicate that the model generally discriminates well between the three conditions (Disk Hernia, Normal, and Spondylolisthesis), the classification of Normal patients could still be improved based on the slight drop in performance seen in the ROC curve and AUC for this class.\r\n"
   ]
  },
  {
   "cell_type": "markdown",
   "id": "3342fd38-f503-4ac5-b58f-8e07af7a7a13",
   "metadata": {},
   "source": [
    "# Analyzing Feature Correlations with Spinal Conditions"
   ]
  },
  {
   "cell_type": "code",
   "execution_count": null,
   "id": "3f93b4b1-b4b4-49ef-99c7-99852cbd8c38",
   "metadata": {},
   "outputs": [],
   "source": [
    "\n",
    "# Extract correlation of features with the target variable\n",
    "target_correlation = correlation_matrix['SPINAL CONDITION'].drop('SPINAL CONDITION').sort_values(ascending=False)\n",
    "\n",
    "# Create a DataFrame for better visualization\n",
    "feature_correlation_df = pd.DataFrame({\n",
    "    'Feature': target_correlation.index,\n",
    "    'Correlation': target_correlation.values\n",
    "})\n",
    "\n",
    "# Plot the feature correlations\n",
    "plt.figure(figsize=(10, 6))\n",
    "sns.barplot(x='Correlation', y='Feature', data=feature_correlation_df, hue='Feature', palette='viridis', legend=False)\n",
    "\n",
    "plt.title('Feature Correlation with Spinal Conditions')\n",
    "plt.xlabel('Correlation Coefficient')\n",
    "plt.ylabel('Feature')\n",
    "plt.show()\n",
    "\n",
    "\n"
   ]
  },
  {
   "cell_type": "markdown",
   "id": "a23e1596-5285-4fee-9e2f-7280981d7c45",
   "metadata": {},
   "source": [
    "# User Input for Spinal Condition Prediction"
   ]
  },
  {
   "cell_type": "code",
   "execution_count": null,
   "id": "4957f6c1-c94a-427c-af28-e47e450db4e7",
   "metadata": {},
   "outputs": [],
   "source": [
    "import pandas as pd\n",
    "\n",
    "def predict_outcome():\n",
    "    print(\"\\nEnter the following details to predict the spinal condition:\")\n",
    "    \n",
    "    PELVIC_INCIDENCE = float(input(\"Pelvic Incidence: \"))\n",
    "    PELVIC_TILT = float(input(\"Pelvic Tilt: \"))\n",
    "    LUMBAR_LORDOSIS_ANGLE = float(input(\"Lumbar Lordosis Angle: \"))\n",
    "    SACRAL_SLOPE = float(input(\"Sacral Slope: \"))\n",
    "    PELVIC_RADIUS = float(input(\"Pelvic Radius: \"))\n",
    "    DEGREE_OF_SPONDYLOLISTHESIS = float(input(\"Degree of Spondylolisthesis: \"))\n",
    "\n",
    "    # Create a DataFrame for the input data\n",
    "    user_data = pd.DataFrame([[PELVIC_INCIDENCE, PELVIC_TILT, LUMBAR_LORDOSIS_ANGLE, \n",
    "                                SACRAL_SLOPE, PELVIC_RADIUS, DEGREE_OF_SPONDYLOLISTHESIS]],\n",
    "                              columns=['pelvic_incidence', 'pelvic_tilt', 'lumbar_lordosis_angle',\n",
    "                                       'sacral_slope', 'pelvic_radius', 'degree_spondylolisthesis'])\n",
    "    \n",
    "    \n",
    "   \n",
    "    user_data_scaled = scaler.transform(user_data) \n",
    "    \n",
    "    # Predict the outcome\n",
    "    outcome = classifier.predict(user_data_scaled)\n",
    "    \n",
    "    # Map numerical outcomes to spinal conditions\n",
    "    condition_map = {0: \"Disk Hernia (DH)\", 1: \"Normal (NO)\", 2: \"Spondylolisthesis (SL)\"}\n",
    "    predicted_condition = condition_map[int(outcome[0])]\n",
    "    \n",
    "    print(f\"\\nPredicted Spinal Condition: {predicted_condition}\")\n",
    "\n",
    "# Call the prediction function\n",
    "predict_outcome()\n"
   ]
  },
  {
   "cell_type": "code",
   "execution_count": null,
   "id": "87c0b9b9-52a6-43fa-a12f-ae1c37422230",
   "metadata": {},
   "outputs": [],
   "source": []
  }
 ],
 "metadata": {
  "kernelspec": {
   "display_name": "Python 3 (ipykernel)",
   "language": "python",
   "name": "python3"
  },
  "language_info": {
   "codemirror_mode": {
    "name": "ipython",
    "version": 3
   },
   "file_extension": ".py",
   "mimetype": "text/x-python",
   "name": "python",
   "nbconvert_exporter": "python",
   "pygments_lexer": "ipython3",
   "version": "3.12.4"
  }
 },
 "nbformat": 4,
 "nbformat_minor": 5
}
