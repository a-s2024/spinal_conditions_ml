{
 "cells": [
  {
   "cell_type": "markdown",
   "id": "fa89af9d-e1ed-4c7b-aa51-5ec3e3941d53",
   "metadata": {},
   "source": [
    "| **CLASSIFICATION OF SPINAL CONDITIONS** |\n",
    "|-----------------------------------------|\n",
    "---\n",
    "\n",
    "\n",
    "> **Description:**  \n",
    "> \n",
    "---\n",
    "\n",
    "**Name:** Ayesha Siddiqua  \n",
    "**Student ID:** U22103855\n"
   ]
  },
  {
   "cell_type": "markdown",
   "id": "ad41e455-3552-434c-bf39-2aba340b9212",
   "metadata": {},
   "source": [
    "### INTRODUCTION"
   ]
  },
  {
   "cell_type": "markdown",
   "id": "bdeac6d3-c014-4a78-b570-b6640e46d248",
   "metadata": {},
   "source": [
    "The dataset contains:\n",
    "***310 instances** and **6 features** related to spinal health.* \n",
    "\n",
    "#### Features\n",
    "1. *Pelvic Incidence*\n",
    "2. *Pelvic Tilt*\n",
    "3. *Lumbar Lordosis Angle*\n",
    "4. *Sacral Slope*\n",
    "5. *Pelvic Radius*\n",
    "6. *Degree of Spondylolisthesis*\n",
    "   \n",
    "#### Spinal Condition Categories\n",
    "1. *Normal (NO)* - Patients without any spinal issues.\n",
    "2. *Disk Hernia (DH)* - Patients with a herniated disc.\n",
    "3. *Spondylolisthesis (SL)* - Patients with vertebrae that have slipped."
   ]
  },
  {
   "cell_type": "markdown",
   "id": "4fd75189-6ebf-4b9c-b20a-82f4039f0368",
   "metadata": {},
   "source": [
    "### **1. Data Preprocessing**"
   ]
  },
  {
   "cell_type": "markdown",
   "id": "d34b89e8-f19c-46d1-90b9-6c4f25974a2b",
   "metadata": {},
   "source": [
    "**Loading the Dataset**"
   ]
  },
  {
   "cell_type": "code",
   "execution_count": null,
   "id": "688d4a6c-47a1-41bc-8206-7ba89c9e0653",
   "metadata": {},
   "outputs": [],
   "source": [
    "# importing necessary libraries\n",
    "\n",
    "from sklearn.model_selection import train_test_split\n",
    "from sklearn.preprocessing import StandardScaler\n",
    "from sklearn.metrics import confusion_matrix, f1_score, accuracy_score\n",
    "\n",
    "import numpy as np\n",
    "import pandas as pd\n",
    "import matplotlib.pyplot as plt\n",
    "import seaborn as sns\n",
    "\n",
    "# loading the dataset\n",
    "\n",
    "# read the file into a dataframe \n",
    "df = pd.read_csv('vertebral_column.csv')\n",
    "\n",
    "# display the dataframe to check if it was loaded correctly\n",
    "print(df.head())\n"
   ]
  },
  {
   "cell_type": "markdown",
   "id": "10392bfe-91d9-47ae-8902-9d90bc2b6aed",
   "metadata": {},
   "source": [
    "**Handling Missing Values**"
   ]
  },
  {
   "cell_type": "code",
   "execution_count": null,
   "id": "8daea745-397e-46b3-ba91-09e949c61cbc",
   "metadata": {},
   "outputs": [],
   "source": [
    "# check for missing values in the dataframe\n",
    "missing_values = df.isnull().sum()\n",
    "\n",
    "# display the count of missing values for each column\n",
    "print(missing_values)\n",
    "\n",
    "# check if there are any missing values\n",
    "if missing_values.sum() == 0:\n",
    "    print(\"\\nNo missing values.\")\n",
    "else:\n",
    "    print(\"\\nMissing values found.\")\n"
   ]
  },
  {
   "cell_type": "markdown",
   "id": "0d2e7ece-b2e5-4106-abb5-baf38ea174d5",
   "metadata": {},
   "source": [
    "**Data Preprocessing**"
   ]
  },
  {
   "cell_type": "code",
   "execution_count": null,
   "id": "2ea3ea92-ab08-4269-88c6-777876648459",
   "metadata": {},
   "outputs": [],
   "source": [
    "# FEATURES & TARGETS COLUMNS\n",
    "\n",
    "features = df.columns[:-1]  \n",
    "target = df.columns[-1]     \n",
    "\n",
    "# Data preprocessing\n",
    "x = df.iloc[:, :-1].values # feature values\n",
    "y = df.iloc[:, -1].values # target values\n",
    "\n",
    "labels=df[target].unique()\n",
    "\n",
    "# print the names of the features\n",
    "print(\"Features: \\n\", list(features))\n",
    "\n",
    "# print the label type \n",
    "print(\"Labels: \\n\", labels)"
   ]
  },
  {
   "cell_type": "markdown",
   "id": "7a9e4cf1-8ebe-4f4b-911a-6d844be3e008",
   "metadata": {},
   "source": [
    "**Label Encoding**"
   ]
  },
  {
   "cell_type": "code",
   "execution_count": null,
   "id": "f57c16af-c8f1-4ca0-be26-b8526c8f380d",
   "metadata": {},
   "outputs": [],
   "source": [
    "# Convert categorical labels to numerical values using label encoding:\n",
    "from sklearn.preprocessing import LabelEncoder\n",
    "le = LabelEncoder()\n",
    "\n",
    "# TARGET LABELS: Disk Hernia -> 0, Normal -> 1, Spondylolisthesis -> 2.\n",
    "y = le.fit_transform(y)"
   ]
  },
  {
   "cell_type": "markdown",
   "id": "e0768617-bef7-4570-bce0-4b15cc573669",
   "metadata": {},
   "source": [
    "**Normalization/Scaling & Train-Test Split**"
   ]
  },
  {
   "cell_type": "code",
   "execution_count": null,
   "id": "5482cf0f-9de3-4fcb-ab50-90769c1569de",
   "metadata": {},
   "outputs": [],
   "source": [
    "# Splitting the dataset into training and testing sets\n",
    "from sklearn.model_selection import train_test_split\n",
    "x_train, x_test, y_train, y_test = train_test_split(x, y, test_size=0.3, random_state=0)\n",
    "\n",
    "# Feature scaling \n",
    "# This ensures equal weight for each feature and improves model performance.\n",
    "from sklearn.preprocessing import StandardScaler\n",
    "scaler = StandardScaler()\n",
    "x_train = scaler.fit_transform(x_train)\n",
    "x_test = scaler.transform(x_test)\n"
   ]
  }
 ],
 "metadata": {
  "kernelspec": {
   "display_name": "",
   "name": ""
  },
  "language_info": {
   "name": ""
  }
 },
 "nbformat": 4,
 "nbformat_minor": 5
}
